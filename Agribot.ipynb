{
  "nbformat": 4,
  "nbformat_minor": 0,
  "metadata": {
    "colab": {
      "provenance": [],
      "authorship_tag": "ABX9TyOkwMlfYzqa9YIOfyes7zZe",
      "include_colab_link": true
    },
    "kernelspec": {
      "name": "python3",
      "display_name": "Python 3"
    },
    "language_info": {
      "name": "python"
    }
  },
  "cells": [
    {
      "cell_type": "markdown",
      "metadata": {
        "id": "view-in-github",
        "colab_type": "text"
      },
      "source": [
        "<a href=\"https://colab.research.google.com/github/Bhuvan588/Agribot/blob/main/Agribot.ipynb\" target=\"_parent\"><img src=\"https://colab.research.google.com/assets/colab-badge.svg\" alt=\"Open In Colab\"/></a>"
      ]
    },
    {
      "cell_type": "code",
      "source": [
        "import pandas as pd\n",
        "import numpy as np\n"
      ],
      "metadata": {
        "id": "QzU5uKOM-ZLR"
      },
      "execution_count": null,
      "outputs": []
    },
    {
      "cell_type": "code",
      "source": [
        "ds = pd.read_csv(\"questionsv4.csv\", engine='python')"
      ],
      "metadata": {
        "id": "hU9i1r-JBjDt"
      },
      "execution_count": null,
      "outputs": []
    },
    {
      "cell_type": "code",
      "source": [
        "ds.head()"
      ],
      "metadata": {
        "colab": {
          "base_uri": "https://localhost:8080/",
          "height": 206
        },
        "id": "T0TSgnaJBoK9",
        "outputId": "e61877a6-4c4c-406a-f5cd-a2e4bcf67198"
      },
      "execution_count": null,
      "outputs": [
        {
          "output_type": "execute_result",
          "data": {
            "text/plain": [
              "                                           questions  \\\n",
              "0  asking about the control measure for aphid inf...   \n",
              "1  asking about the control measure of flower dro...   \n",
              "2  asking about how to avail kisan credit card lo...   \n",
              "3      asking about source of early ahu rice variety   \n",
              "4  asking that he has not got proper friut from h...   \n",
              "\n",
              "                                             answers  \n",
              "0  suggested him to spray rogor@2ml/lit.at evenin...  \n",
              "1  suggested him to apply fertilizer in recommend...  \n",
              "2  suggested to consult with officer-marketing an...  \n",
              "3  suggested to take early ahu rice variety from ...  \n",
              "4  suggested him to aplly recommended fertilizer ...  "
            ],
            "text/html": [
              "\n",
              "  <div id=\"df-07e49d8d-7227-4ffc-bcbb-8ea48644312e\" class=\"colab-df-container\">\n",
              "    <div>\n",
              "<style scoped>\n",
              "    .dataframe tbody tr th:only-of-type {\n",
              "        vertical-align: middle;\n",
              "    }\n",
              "\n",
              "    .dataframe tbody tr th {\n",
              "        vertical-align: top;\n",
              "    }\n",
              "\n",
              "    .dataframe thead th {\n",
              "        text-align: right;\n",
              "    }\n",
              "</style>\n",
              "<table border=\"1\" class=\"dataframe\">\n",
              "  <thead>\n",
              "    <tr style=\"text-align: right;\">\n",
              "      <th></th>\n",
              "      <th>questions</th>\n",
              "      <th>answers</th>\n",
              "    </tr>\n",
              "  </thead>\n",
              "  <tbody>\n",
              "    <tr>\n",
              "      <th>0</th>\n",
              "      <td>asking about the control measure for aphid inf...</td>\n",
              "      <td>suggested him to spray rogor@2ml/lit.at evenin...</td>\n",
              "    </tr>\n",
              "    <tr>\n",
              "      <th>1</th>\n",
              "      <td>asking about the control measure of flower dro...</td>\n",
              "      <td>suggested him to apply fertilizer in recommend...</td>\n",
              "    </tr>\n",
              "    <tr>\n",
              "      <th>2</th>\n",
              "      <td>asking about how to avail kisan credit card lo...</td>\n",
              "      <td>suggested to consult with officer-marketing an...</td>\n",
              "    </tr>\n",
              "    <tr>\n",
              "      <th>3</th>\n",
              "      <td>asking about source of early ahu rice variety</td>\n",
              "      <td>suggested to take early ahu rice variety from ...</td>\n",
              "    </tr>\n",
              "    <tr>\n",
              "      <th>4</th>\n",
              "      <td>asking that he has not got proper friut from h...</td>\n",
              "      <td>suggested him to aplly recommended fertilizer ...</td>\n",
              "    </tr>\n",
              "  </tbody>\n",
              "</table>\n",
              "</div>\n",
              "    <div class=\"colab-df-buttons\">\n",
              "\n",
              "  <div class=\"colab-df-container\">\n",
              "    <button class=\"colab-df-convert\" onclick=\"convertToInteractive('df-07e49d8d-7227-4ffc-bcbb-8ea48644312e')\"\n",
              "            title=\"Convert this dataframe to an interactive table.\"\n",
              "            style=\"display:none;\">\n",
              "\n",
              "  <svg xmlns=\"http://www.w3.org/2000/svg\" height=\"24px\" viewBox=\"0 -960 960 960\">\n",
              "    <path d=\"M120-120v-720h720v720H120Zm60-500h600v-160H180v160Zm220 220h160v-160H400v160Zm0 220h160v-160H400v160ZM180-400h160v-160H180v160Zm440 0h160v-160H620v160ZM180-180h160v-160H180v160Zm440 0h160v-160H620v160Z\"/>\n",
              "  </svg>\n",
              "    </button>\n",
              "\n",
              "  <style>\n",
              "    .colab-df-container {\n",
              "      display:flex;\n",
              "      gap: 12px;\n",
              "    }\n",
              "\n",
              "    .colab-df-convert {\n",
              "      background-color: #E8F0FE;\n",
              "      border: none;\n",
              "      border-radius: 50%;\n",
              "      cursor: pointer;\n",
              "      display: none;\n",
              "      fill: #1967D2;\n",
              "      height: 32px;\n",
              "      padding: 0 0 0 0;\n",
              "      width: 32px;\n",
              "    }\n",
              "\n",
              "    .colab-df-convert:hover {\n",
              "      background-color: #E2EBFA;\n",
              "      box-shadow: 0px 1px 2px rgba(60, 64, 67, 0.3), 0px 1px 3px 1px rgba(60, 64, 67, 0.15);\n",
              "      fill: #174EA6;\n",
              "    }\n",
              "\n",
              "    .colab-df-buttons div {\n",
              "      margin-bottom: 4px;\n",
              "    }\n",
              "\n",
              "    [theme=dark] .colab-df-convert {\n",
              "      background-color: #3B4455;\n",
              "      fill: #D2E3FC;\n",
              "    }\n",
              "\n",
              "    [theme=dark] .colab-df-convert:hover {\n",
              "      background-color: #434B5C;\n",
              "      box-shadow: 0px 1px 3px 1px rgba(0, 0, 0, 0.15);\n",
              "      filter: drop-shadow(0px 1px 2px rgba(0, 0, 0, 0.3));\n",
              "      fill: #FFFFFF;\n",
              "    }\n",
              "  </style>\n",
              "\n",
              "    <script>\n",
              "      const buttonEl =\n",
              "        document.querySelector('#df-07e49d8d-7227-4ffc-bcbb-8ea48644312e button.colab-df-convert');\n",
              "      buttonEl.style.display =\n",
              "        google.colab.kernel.accessAllowed ? 'block' : 'none';\n",
              "\n",
              "      async function convertToInteractive(key) {\n",
              "        const element = document.querySelector('#df-07e49d8d-7227-4ffc-bcbb-8ea48644312e');\n",
              "        const dataTable =\n",
              "          await google.colab.kernel.invokeFunction('convertToInteractive',\n",
              "                                                    [key], {});\n",
              "        if (!dataTable) return;\n",
              "\n",
              "        const docLinkHtml = 'Like what you see? Visit the ' +\n",
              "          '<a target=\"_blank\" href=https://colab.research.google.com/notebooks/data_table.ipynb>data table notebook</a>'\n",
              "          + ' to learn more about interactive tables.';\n",
              "        element.innerHTML = '';\n",
              "        dataTable['output_type'] = 'display_data';\n",
              "        await google.colab.output.renderOutput(dataTable, element);\n",
              "        const docLink = document.createElement('div');\n",
              "        docLink.innerHTML = docLinkHtml;\n",
              "        element.appendChild(docLink);\n",
              "      }\n",
              "    </script>\n",
              "  </div>\n",
              "\n",
              "\n",
              "<div id=\"df-dc8746a0-9f15-4b2c-9810-e3f454db63de\">\n",
              "  <button class=\"colab-df-quickchart\" onclick=\"quickchart('df-dc8746a0-9f15-4b2c-9810-e3f454db63de')\"\n",
              "            title=\"Suggest charts\"\n",
              "            style=\"display:none;\">\n",
              "\n",
              "<svg xmlns=\"http://www.w3.org/2000/svg\" height=\"24px\"viewBox=\"0 0 24 24\"\n",
              "     width=\"24px\">\n",
              "    <g>\n",
              "        <path d=\"M19 3H5c-1.1 0-2 .9-2 2v14c0 1.1.9 2 2 2h14c1.1 0 2-.9 2-2V5c0-1.1-.9-2-2-2zM9 17H7v-7h2v7zm4 0h-2V7h2v10zm4 0h-2v-4h2v4z\"/>\n",
              "    </g>\n",
              "</svg>\n",
              "  </button>\n",
              "\n",
              "<style>\n",
              "  .colab-df-quickchart {\n",
              "      --bg-color: #E8F0FE;\n",
              "      --fill-color: #1967D2;\n",
              "      --hover-bg-color: #E2EBFA;\n",
              "      --hover-fill-color: #174EA6;\n",
              "      --disabled-fill-color: #AAA;\n",
              "      --disabled-bg-color: #DDD;\n",
              "  }\n",
              "\n",
              "  [theme=dark] .colab-df-quickchart {\n",
              "      --bg-color: #3B4455;\n",
              "      --fill-color: #D2E3FC;\n",
              "      --hover-bg-color: #434B5C;\n",
              "      --hover-fill-color: #FFFFFF;\n",
              "      --disabled-bg-color: #3B4455;\n",
              "      --disabled-fill-color: #666;\n",
              "  }\n",
              "\n",
              "  .colab-df-quickchart {\n",
              "    background-color: var(--bg-color);\n",
              "    border: none;\n",
              "    border-radius: 50%;\n",
              "    cursor: pointer;\n",
              "    display: none;\n",
              "    fill: var(--fill-color);\n",
              "    height: 32px;\n",
              "    padding: 0;\n",
              "    width: 32px;\n",
              "  }\n",
              "\n",
              "  .colab-df-quickchart:hover {\n",
              "    background-color: var(--hover-bg-color);\n",
              "    box-shadow: 0 1px 2px rgba(60, 64, 67, 0.3), 0 1px 3px 1px rgba(60, 64, 67, 0.15);\n",
              "    fill: var(--button-hover-fill-color);\n",
              "  }\n",
              "\n",
              "  .colab-df-quickchart-complete:disabled,\n",
              "  .colab-df-quickchart-complete:disabled:hover {\n",
              "    background-color: var(--disabled-bg-color);\n",
              "    fill: var(--disabled-fill-color);\n",
              "    box-shadow: none;\n",
              "  }\n",
              "\n",
              "  .colab-df-spinner {\n",
              "    border: 2px solid var(--fill-color);\n",
              "    border-color: transparent;\n",
              "    border-bottom-color: var(--fill-color);\n",
              "    animation:\n",
              "      spin 1s steps(1) infinite;\n",
              "  }\n",
              "\n",
              "  @keyframes spin {\n",
              "    0% {\n",
              "      border-color: transparent;\n",
              "      border-bottom-color: var(--fill-color);\n",
              "      border-left-color: var(--fill-color);\n",
              "    }\n",
              "    20% {\n",
              "      border-color: transparent;\n",
              "      border-left-color: var(--fill-color);\n",
              "      border-top-color: var(--fill-color);\n",
              "    }\n",
              "    30% {\n",
              "      border-color: transparent;\n",
              "      border-left-color: var(--fill-color);\n",
              "      border-top-color: var(--fill-color);\n",
              "      border-right-color: var(--fill-color);\n",
              "    }\n",
              "    40% {\n",
              "      border-color: transparent;\n",
              "      border-right-color: var(--fill-color);\n",
              "      border-top-color: var(--fill-color);\n",
              "    }\n",
              "    60% {\n",
              "      border-color: transparent;\n",
              "      border-right-color: var(--fill-color);\n",
              "    }\n",
              "    80% {\n",
              "      border-color: transparent;\n",
              "      border-right-color: var(--fill-color);\n",
              "      border-bottom-color: var(--fill-color);\n",
              "    }\n",
              "    90% {\n",
              "      border-color: transparent;\n",
              "      border-bottom-color: var(--fill-color);\n",
              "    }\n",
              "  }\n",
              "</style>\n",
              "\n",
              "  <script>\n",
              "    async function quickchart(key) {\n",
              "      const quickchartButtonEl =\n",
              "        document.querySelector('#' + key + ' button');\n",
              "      quickchartButtonEl.disabled = true;  // To prevent multiple clicks.\n",
              "      quickchartButtonEl.classList.add('colab-df-spinner');\n",
              "      try {\n",
              "        const charts = await google.colab.kernel.invokeFunction(\n",
              "            'suggestCharts', [key], {});\n",
              "      } catch (error) {\n",
              "        console.error('Error during call to suggestCharts:', error);\n",
              "      }\n",
              "      quickchartButtonEl.classList.remove('colab-df-spinner');\n",
              "      quickchartButtonEl.classList.add('colab-df-quickchart-complete');\n",
              "    }\n",
              "    (() => {\n",
              "      let quickchartButtonEl =\n",
              "        document.querySelector('#df-dc8746a0-9f15-4b2c-9810-e3f454db63de button');\n",
              "      quickchartButtonEl.style.display =\n",
              "        google.colab.kernel.accessAllowed ? 'block' : 'none';\n",
              "    })();\n",
              "  </script>\n",
              "</div>\n",
              "\n",
              "    </div>\n",
              "  </div>\n"
            ],
            "application/vnd.google.colaboratory.intrinsic+json": {
              "type": "dataframe",
              "variable_name": "ds",
              "summary": "{\n  \"name\": \"ds\",\n  \"rows\": 77452,\n  \"fields\": [\n    {\n      \"column\": \"questions\",\n      \"properties\": {\n        \"dtype\": \"string\",\n        \"num_unique_values\": 43806,\n        \"samples\": [\n          \"asking about seed treatment of bitter gourd.\",\n          \"asking about the control measure against red ant infestation in tomato.\",\n          \"red ants\"\n        ],\n        \"semantic_type\": \"\",\n        \"description\": \"\"\n      }\n    },\n    {\n      \"column\": \"answers\",\n      \"properties\": {\n        \"dtype\": \"string\",\n        \"num_unique_values\": 44868,\n        \"samples\": [\n          \"recommended price of urea is rs. 8-9/kg\",\n          \"'urea 5 kg, dap 6 kg, mop 4 kg' per bigha of area\",\n          \"suggest him to use 7 ft distance from plant to plant\"\n        ],\n        \"semantic_type\": \"\",\n        \"description\": \"\"\n      }\n    }\n  ]\n}"
            }
          },
          "metadata": {},
          "execution_count": 3
        }
      ]
    },
    {
      "cell_type": "code",
      "source": [
        "ds.isnull().sum()"
      ],
      "metadata": {
        "colab": {
          "base_uri": "https://localhost:8080/"
        },
        "id": "AbSmI1RyCX4t",
        "outputId": "e3d81126-7211-4fc2-8fb2-6fc346e3566c"
      },
      "execution_count": null,
      "outputs": [
        {
          "output_type": "execute_result",
          "data": {
            "text/plain": [
              "questions     0\n",
              "answers      53\n",
              "dtype: int64"
            ]
          },
          "metadata": {},
          "execution_count": 4
        }
      ]
    },
    {
      "cell_type": "code",
      "source": [
        "ds= ds.dropna(subset=['answers'])"
      ],
      "metadata": {
        "id": "eU9dMNR5Ca9n"
      },
      "execution_count": null,
      "outputs": []
    },
    {
      "cell_type": "code",
      "source": [
        "ds.isnull().sum()"
      ],
      "metadata": {
        "colab": {
          "base_uri": "https://localhost:8080/"
        },
        "id": "Xc_-ob24CrQu",
        "outputId": "b04355fd-365a-4138-c5ca-aefbb623f749"
      },
      "execution_count": null,
      "outputs": [
        {
          "output_type": "execute_result",
          "data": {
            "text/plain": [
              "questions    0\n",
              "answers      0\n",
              "dtype: int64"
            ]
          },
          "metadata": {},
          "execution_count": 6
        }
      ]
    },
    {
      "cell_type": "code",
      "source": [
        "ds.shape"
      ],
      "metadata": {
        "colab": {
          "base_uri": "https://localhost:8080/"
        },
        "id": "CPOVsTl1UDex",
        "outputId": "ecb4cb17-738c-4da4-8f38-8be353d8cc4a"
      },
      "execution_count": null,
      "outputs": [
        {
          "output_type": "execute_result",
          "data": {
            "text/plain": [
              "(67873, 2)"
            ]
          },
          "metadata": {},
          "execution_count": 7
        }
      ]
    },
    {
      "cell_type": "code",
      "source": [
        "print(len(ds[ds[\"answers\"] == \"explained in details\"]))"
      ],
      "metadata": {
        "colab": {
          "base_uri": "https://localhost:8080/"
        },
        "id": "qRT5bVrOezbE",
        "outputId": "00b9020d-f80f-44b4-a737-e475795e2a48"
      },
      "execution_count": null,
      "outputs": [
        {
          "output_type": "stream",
          "name": "stdout",
          "text": [
            "1217\n"
          ]
        }
      ]
    },
    {
      "cell_type": "markdown",
      "source": [
        "NLP Preprocessing Steps"
      ],
      "metadata": {
        "id": "dQ8km-cEC04q"
      }
    },
    {
      "cell_type": "code",
      "source": [
        "import inflect\n",
        "p = inflect.engine()\n",
        "import string\n",
        "import nltk\n",
        "from nltk.corpus import stopwords\n",
        "from nltk.tokenize import word_tokenize\n",
        "\n",
        "\n",
        "from nltk.corpus import wordnet\n",
        "from nltk.stem import WordNetLemmatizer\n",
        "\n",
        "\n",
        "# Download NLTK resources (may need internet connection first time)\n",
        "nltk.download('wordnet')\n",
        "nltk.download('stopwords')\n",
        "nltk.download('punkt')\n",
        "\n",
        "\n",
        "def convert_number(text):\n",
        "  # Split string into a list (temporary for digit manipulation)\n",
        "  temp_str = text.split()\n",
        "  new_string = []  # Empty list to store modified words\n",
        "\n",
        "  for word in temp_str:\n",
        "    if word.isdigit():\n",
        "      temp = p.number_to_words(word)\n",
        "      new_string.append(temp)  # Append converted number as word\n",
        "    else:\n",
        "      new_string.append(word)  # Append word as it is\n",
        "\n",
        "  # Join the words back into a string\n",
        "  text = ' '.join(new_string)\n",
        "  return text\n",
        "\n",
        "\n",
        "def remove_punctuation(text):\n",
        "  translator = str.maketrans('', '', string.punctuation)\n",
        "  return text.translate(translator)\n",
        "\n",
        "\n",
        "# Remove whitespace from text\n",
        "def remove_whitespace(text):\n",
        "  return \" \".join(text.split())  # Join words after splitting by whitespace\n",
        "\n",
        "\n",
        "def remove_stopwords(text):\n",
        "  stop_words = set(stopwords.words(\"english\"))\n",
        "  word_tokens = word_tokenize(text)\n",
        "  filtered_text = [word for word in word_tokens if word not in stop_words]\n",
        "  # Join the filtered words back into a string\n",
        "  return ' '.join(filtered_text)\n",
        "\n",
        "\n",
        "# Define a function to lemmatize text\n",
        "def lemmatize_text(text):\n",
        "  # Tokenize the text (split into words)\n",
        "  tokens = nltk.word_tokenize(text)  # No need to call lower() here\n",
        "  tokens = [word.lower() for word in tokens]  # Convert each word to lowercase\n",
        "\n",
        "  # Create a WordNet lemmatizer\n",
        "  lemmatizer = WordNetLemmatizer()\n",
        "\n",
        "  # Lemmatize each word, considering its part-of-speech (optional)\n",
        "  lemmas = [lemmatizer.lemmatize(word) for word in tokens]\n",
        "\n",
        "  # Return the lemmatized text\n",
        "  return \" \".join(lemmas)\n",
        "\n",
        "\n",
        "def preprocess(text):\n",
        "  res = str(text)  # Ensure res is a string\n",
        "\n",
        "\n",
        "  res = res.lower()  # Convert to lowercase\n",
        "\n",
        "\n",
        "  res = remove_punctuation(res)  # Remove punctuation\n",
        "\n",
        "\n",
        "  res = remove_whitespace(res)  # Remove whitespace\n",
        "\n",
        "\n",
        "  res = convert_number(res)  # Convert numbers to words\n",
        "\n",
        "\n",
        "\n",
        "\n",
        "\n",
        "\n",
        "  res = remove_stopwords(res)  # Remove stopwords\n",
        "\n",
        "\n",
        "  res = lemmatize_text(res)  # Lemmatize text\n",
        "\n",
        "\n",
        "  return res\n",
        "\n",
        "input_str = \"suggested to apply bordeaux mixture. apply borax @ 50 gm/plant per year along with urea & ssp.\"\n",
        "\n",
        "preprocess(input_str)\n"
      ],
      "metadata": {
        "colab": {
          "base_uri": "https://localhost:8080/",
          "height": 140
        },
        "id": "7mnuH0nbEDVD",
        "outputId": "87a5389c-3069-4f90-c0d8-b6005d015f0f"
      },
      "execution_count": null,
      "outputs": [
        {
          "output_type": "stream",
          "name": "stderr",
          "text": [
            "[nltk_data] Downloading package wordnet to /root/nltk_data...\n",
            "[nltk_data]   Package wordnet is already up-to-date!\n",
            "[nltk_data] Downloading package stopwords to /root/nltk_data...\n",
            "[nltk_data]   Package stopwords is already up-to-date!\n",
            "[nltk_data] Downloading package punkt to /root/nltk_data...\n",
            "[nltk_data]   Package punkt is already up-to-date!\n"
          ]
        },
        {
          "output_type": "execute_result",
          "data": {
            "text/plain": [
              "'suggested apply bordeaux mixture apply borax fifty gmplant per year along urea ssp'"
            ],
            "application/vnd.google.colaboratory.intrinsic+json": {
              "type": "string"
            }
          },
          "metadata": {},
          "execution_count": 7
        }
      ]
    },
    {
      "cell_type": "code",
      "source": [
        "from sklearn.feature_extraction.text import TfidfVectorizer\n",
        "from sklearn.metrics.pairwise import cosine_similarity\n",
        "\n",
        "user_query = \"Fertlizers required for corn?\"\n",
        "bot_response1 = \"Corn typically thrives with nitrogen-rich fertilizers. Have you considered using Ammonium Sulfate?\"\n",
        "bot_response2 = \"Weeds can significantly reduce corn yield. Luckily, there are various herbicides available for pre- and post-emergence weed control.\"\n",
        "\n",
        "\n",
        "# Preprocess sentences\n",
        "user_query = preprocess(user_query)\n",
        "bot_response1 = preprocess(bot_response1)\n",
        "bot_response2 = preprocess(bot_response2)\n",
        "\n",
        "# Create TF-IDF vectorizer\n",
        "vectorizer = TfidfVectorizer()\n",
        "\n",
        "# Fit the vectorizer on all sentences\n",
        "sentences = [user_query, bot_response1, bot_response2]\n",
        "vectors = vectorizer.fit_transform(sentences)\n",
        "\n",
        "# Calculate cosine similarity between user query and each bot response\n",
        "query_vec = vectors[0]  # First element is the user query vector\n",
        "similarity_scores = cosine_similarity(query_vec.reshape(1, -1), vectors[1:])  # Compare with bot responses\n",
        "\n",
        "# Find the bot response with the highest similarity score\n",
        "most_similar_idx = similarity_scores.argmax()\n",
        "\n",
        "# Provide the corresponding bot response\n",
        "chosen_response = sentences[most_similar_idx + 1]  # +1 to exclude user query\n",
        "\n",
        "print(f\"User Query: {user_query}\")\n",
        "print(f\"Most Relevant Bot Response: {chosen_response}\")"
      ],
      "metadata": {
        "colab": {
          "base_uri": "https://localhost:8080/"
        },
        "id": "F7KRd9-aHYDZ",
        "outputId": "ee6598ab-e0af-445c-9a76-cff1907eda63"
      },
      "execution_count": null,
      "outputs": [
        {
          "output_type": "stream",
          "name": "stdout",
          "text": [
            "User Query: fertlizers required corn\n",
            "Most Relevant Bot Response: corn typically thrives nitrogenrich fertilizer considered using ammonium sulfate\n"
          ]
        }
      ]
    },
    {
      "cell_type": "code",
      "source": [
        "import pandas as pd\n",
        "from sklearn.feature_extraction.text import TfidfVectorizer\n",
        "from sklearn.metrics.pairwise import cosine_similarity\n",
        "\n",
        "\n",
        "\n",
        "def find_most_similar_response(user_query):\n",
        "  # Preprocess the user query\n",
        "  user_query_processed = preprocess(user_query)\n",
        "\n",
        "  # Load the dataset (ensure questions column is present)\n",
        "\n",
        "  questions = ds[\"questions\"]\n",
        "\n",
        "  # Create TF-IDF vectorizer\n",
        "  vectorizer = TfidfVectorizer()\n",
        "\n",
        "  # Fit the vectorizer on all sentences (user query and questions)\n",
        "  all_sentences = [user_query_processed] + questions.tolist()\n",
        "  vectors = vectorizer.fit_transform(all_sentences)\n",
        "\n",
        "  # Calculate cosine similarity between user query and each question\n",
        "  query_vec = vectors[0]\n",
        "  similarity_scores = cosine_similarity(query_vec.reshape(1, -1), vectors[1:])\n",
        "\n",
        "  # Find the question with the highest similarity score\n",
        "  most_similar_idx = similarity_scores.argmax()\n",
        "\n",
        "  # Retrieve the corresponding answer (assuming an \"answers\" column exists)\n",
        "  chosen_answer = ds[\"answers\"].iloc[most_similar_idx] if \"answers\" in ds.columns else \"Answer not found in dataset\"\n",
        "\n",
        "  if(len(chosen_answer.split())<=4):\n",
        "    search_engine = \"https://www.google.com/search?q=\" + user_query_processed  # Replace with your preferred search engine\n",
        "    print(f\"Search the web for more details: {search_engine}\")\n",
        "\n",
        "\n",
        "\n",
        "  return chosen_answer\n",
        "\n",
        "# Example usage\n",
        "user_query = input(\"Enter your question: \")\n",
        "answer = find_most_similar_response(user_query)\n",
        "print(f\"Agri Bot: {answer}\")\n"
      ],
      "metadata": {
        "id": "5TUFoVtLWRyW",
        "colab": {
          "base_uri": "https://localhost:8080/"
        },
        "outputId": "73366593-32a1-4e3f-c5a9-646e9231a093"
      },
      "execution_count": null,
      "outputs": [
        {
          "output_type": "stream",
          "name": "stdout",
          "text": [
            "Enter your question: regarding bordeaux\n",
            "Agri Bot: spray bordeaux mixture @ 10 g per lit of water, 2 sprays at 15 days interval\n"
          ]
        }
      ]
    },
    {
      "cell_type": "code",
      "source": [
        "!pip install anvil-uplink"
      ],
      "metadata": {
        "colab": {
          "base_uri": "https://localhost:8080/",
          "height": 252
        },
        "id": "gZyoq_xOyniY",
        "outputId": "6cafa8c4-00af-424f-ba60-6ffeaace5675"
      },
      "execution_count": null,
      "outputs": [
        {
          "output_type": "stream",
          "name": "stdout",
          "text": [
            "Requirement already satisfied: anvil-uplink in /usr/local/lib/python3.10/dist-packages (0.5.0)\n",
            "Collecting argparse (from anvil-uplink)\n",
            "  Using cached argparse-1.4.0-py2.py3-none-any.whl (23 kB)\n",
            "Requirement already satisfied: future in /usr/local/lib/python3.10/dist-packages (from anvil-uplink) (0.18.3)\n",
            "Requirement already satisfied: six in /usr/local/lib/python3.10/dist-packages (from anvil-uplink) (1.16.0)\n",
            "Requirement already satisfied: ws4py in /usr/local/lib/python3.10/dist-packages (from anvil-uplink) (0.5.1)\n",
            "Installing collected packages: argparse\n",
            "Successfully installed argparse-1.4.0\n"
          ]
        },
        {
          "output_type": "display_data",
          "data": {
            "application/vnd.colab-display-data+json": {
              "pip_warning": {
                "packages": [
                  "argparse"
                ]
              },
              "id": "81cb073a0fc34951930edc6d1a7a0e16"
            }
          },
          "metadata": {}
        }
      ]
    },
    {
      "cell_type": "code",
      "source": [
        "import anvil.server\n",
        "\n",
        "anvil.server.connect(\"YOUR ANVIL UPLINK\")"
      ],
      "metadata": {
        "id": "_G7LYv9Cfo5y"
      },
      "execution_count": null,
      "outputs": []
    },
    {
      "cell_type": "code",
      "source": [
        "@anvil.server.callable\n",
        "def response_function(user_query):\n",
        "    answer = find_most_similar_response(user_query)\n",
        "    return answer"
      ],
      "metadata": {
        "colab": {
          "base_uri": "https://localhost:8080/"
        },
        "id": "0zIysAZnz8oH",
        "outputId": "e6844d56-d642-4e5d-eff6-9733ac5cb031"
      },
      "execution_count": null,
      "outputs": [
        {
          "output_type": "stream",
          "name": "stdout",
          "text": [
            "Warning: a callable with the name 'response_function' has already been registered. This is probably not what you want\n"
          ]
        }
      ]
    },
    {
      "cell_type": "code",
      "source": [
        "anvil.server.wait_forever()"
      ],
      "metadata": {
        "colab": {
          "base_uri": "https://localhost:8080/",
          "height": 228
        },
        "id": "Yz9wV3Nv0XWv",
        "outputId": "ccd7a17e-a1e7-479a-8a18-55335b2eb3fd"
      },
      "execution_count": null,
      "outputs": [
        {
          "output_type": "error",
          "ename": "KeyboardInterrupt",
          "evalue": "",
          "traceback": [
            "\u001b[0;31m---------------------------------------------------------------------------\u001b[0m",
            "\u001b[0;31mKeyboardInterrupt\u001b[0m                         Traceback (most recent call last)",
            "\u001b[0;32m<ipython-input-17-95cac3476493>\u001b[0m in \u001b[0;36m<cell line: 1>\u001b[0;34m()\u001b[0m\n\u001b[0;32m----> 1\u001b[0;31m \u001b[0manvil\u001b[0m\u001b[0;34m.\u001b[0m\u001b[0mserver\u001b[0m\u001b[0;34m.\u001b[0m\u001b[0mwait_forever\u001b[0m\u001b[0;34m(\u001b[0m\u001b[0;34m)\u001b[0m\u001b[0;34m\u001b[0m\u001b[0;34m\u001b[0m\u001b[0m\n\u001b[0m",
            "\u001b[0;32m/usr/local/lib/python3.10/dist-packages/anvil/server.py\u001b[0m in \u001b[0;36mwait_forever\u001b[0;34m()\u001b[0m\n\u001b[1;32m    438\u001b[0m     \u001b[0m_get_connection\u001b[0m\u001b[0;34m(\u001b[0m\u001b[0;34m)\u001b[0m\u001b[0;34m\u001b[0m\u001b[0;34m\u001b[0m\u001b[0m\n\u001b[1;32m    439\u001b[0m     \u001b[0;32mwhile\u001b[0m \u001b[0;32mTrue\u001b[0m\u001b[0;34m:\u001b[0m\u001b[0;34m\u001b[0m\u001b[0;34m\u001b[0m\u001b[0m\n\u001b[0;32m--> 440\u001b[0;31m         \u001b[0mtime\u001b[0m\u001b[0;34m.\u001b[0m\u001b[0msleep\u001b[0m\u001b[0;34m(\u001b[0m\u001b[0;36m1\u001b[0m\u001b[0;34m)\u001b[0m\u001b[0;34m\u001b[0m\u001b[0;34m\u001b[0m\u001b[0m\n\u001b[0m",
            "\u001b[0;31mKeyboardInterrupt\u001b[0m: "
          ]
        }
      ]
    },
    {
      "cell_type": "code",
      "source": [],
      "metadata": {
        "id": "qYyAIQ-g0v2X"
      },
      "execution_count": null,
      "outputs": []
    }
  ]
}